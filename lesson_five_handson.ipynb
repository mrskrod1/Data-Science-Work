{
 "cells": [
  {
   "cell_type": "code",
   "execution_count": 8,
   "id": "9d17b84c",
   "metadata": {},
   "outputs": [
    {
     "name": "stdout",
     "output_type": "stream",
     "text": [
      "6\n"
     ]
    }
   ],
   "source": [
    "#Part 1\n",
    "def sum_function(num1, num2, num3):\n",
    "    return num1 + num2 + num3\n",
    "\n",
    "print(sum_function(1, 2, 3))\n"
   ]
  },
  {
   "cell_type": "code",
   "execution_count": 9,
   "id": "3f254222",
   "metadata": {},
   "outputs": [
    {
     "name": "stdout",
     "output_type": "stream",
     "text": [
      "6\n"
     ]
    }
   ],
   "source": [
    "def product_function(number1, number2, number3):\n",
    "    return number1 * number2 * number3\n",
    "\n",
    "print(product_function(1, 2, 3))\n"
   ]
  },
  {
   "cell_type": "code",
   "execution_count": 10,
   "id": "c24bbf14",
   "metadata": {},
   "outputs": [
    {
     "name": "stdout",
     "output_type": "stream",
     "text": [
      "2.0\n"
     ]
    }
   ],
   "source": [
    "def average_function(int1, int2, int3):\n",
    "    return (int1 + int2 + int3)/3\n",
    "\n",
    "print(average_function(1, 2, 3))\n"
   ]
  },
  {
   "cell_type": "code",
   "execution_count": 4,
   "id": "458226d7",
   "metadata": {},
   "outputs": [
    {
     "name": "stdout",
     "output_type": "stream",
     "text": [
      "85\n"
     ]
    }
   ],
   "source": [
    "#Part 2\n",
    "add_numbers = lambda numb1, numb2, numb3 : numb1 + numb2 + numb3\n",
    "\n",
    "print(add_numbers(25, 50, 10))\n"
   ]
  },
  {
   "cell_type": "code",
   "execution_count": 5,
   "id": "6fbdd379",
   "metadata": {},
   "outputs": [
    {
     "name": "stdout",
     "output_type": "stream",
     "text": [
      "512\n"
     ]
    }
   ],
   "source": [
    "multiply_numbers = lambda numbr1, numbr2, numbr3 : numbr1 * numbr2 * numbr3\n",
    "\n",
    "print(multiply_numbers(4, 8, 16))\n"
   ]
  },
  {
   "cell_type": "code",
   "execution_count": 6,
   "id": "037fb465",
   "metadata": {},
   "outputs": [
    {
     "name": "stdout",
     "output_type": "stream",
     "text": [
      "18.666666666666668\n"
     ]
    }
   ],
   "source": [
    "average_numbers = lambda integer1, integer2, integer3 : (integer1 + integer2 + integer3)/3\n",
    "\n",
    "print(average_numbers(8, 16, 32))\n"
   ]
  },
  {
   "cell_type": "code",
   "execution_count": 11,
   "id": "834b2496",
   "metadata": {},
   "outputs": [
    {
     "name": "stdout",
     "output_type": "stream",
     "text": [
      "[28.0, 20.0, 65.0, 11.0]\n"
     ]
    }
   ],
   "source": [
    "#Part 3\n",
    "list_one = [4, 6, 88, 24]\n",
    "list_two = [17, 34, 9, 5]\n",
    "list_three = [63, 20, 98, 4]\n",
    "\n",
    "average_maker = lambda num1, num2, num3: (num1 + num2 + num3)/3\n",
    "\n",
    "map_results = map(average_maker, list_one, list_two, list_three)\n",
    "\n",
    "print(list(map_results))"
   ]
  },
  {
   "cell_type": "code",
   "execution_count": null,
   "id": "c7bbc80a",
   "metadata": {},
   "outputs": [],
   "source": []
  }
 ],
 "metadata": {
  "kernelspec": {
   "display_name": "Python 3 (ipykernel)",
   "language": "python",
   "name": "python3"
  },
  "language_info": {
   "codemirror_mode": {
    "name": "ipython",
    "version": 3
   },
   "file_extension": ".py",
   "mimetype": "text/x-python",
   "name": "python",
   "nbconvert_exporter": "python",
   "pygments_lexer": "ipython3",
   "version": "3.9.12"
  }
 },
 "nbformat": 4,
 "nbformat_minor": 5
}
